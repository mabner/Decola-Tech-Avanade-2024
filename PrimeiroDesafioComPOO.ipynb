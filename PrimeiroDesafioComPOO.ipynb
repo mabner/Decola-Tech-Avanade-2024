{
 "cells": [
  {
   "cell_type": "code",
   "execution_count": null,
   "metadata": {
    "dotnet_interactive": {
     "language": "csharp"
    },
    "polyglot_notebook": {
     "kernelName": "csharp"
    }
   },
   "outputs": [],
   "source": [
    "using System;\n",
    "\n",
    "class Pessoa\n",
    "{\n",
    " \n",
    "\n",
    "\n",
    "    public Pessoa(string n, int i)\n",
    "    {\n",
    "        nome = n;\n",
    "        idade = i;\n",
    "    }\n",
    "\n",
    "    public string GetNome()\n",
    "    {\n",
    "        return nome;\n",
    "    }\n",
    "\n",
    "    public int GetIdade()\n",
    "    {\n",
    "        return idade;\n",
    "    }\n",
    "}\n",
    "\n",
    "class Program\n",
    "{\n",
    "    static void Main()\n",
    "    {\n",
    "       \n",
    "\n",
    "    }\n",
    "}"
   ]
  }
 ],
 "metadata": {
  "kernelspec": {
   "display_name": ".NET (C#)",
   "language": "C#",
   "name": ".net-csharp"
  },
  "language_info": {
   "name": "polyglot-notebook"
  },
  "polyglot_notebook": {
   "kernelInfo": {
    "defaultKernelName": "csharp",
    "items": [
     {
      "aliases": [],
      "languageName": "csharp",
      "name": "csharp"
     }
    ]
   }
  }
 },
 "nbformat": 4,
 "nbformat_minor": 2
}
