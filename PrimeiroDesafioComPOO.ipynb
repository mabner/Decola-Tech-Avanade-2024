{
 "cells": [
  {
   "cell_type": "markdown",
   "metadata": {},
   "source": [
    "# Desafio\n",
    "Você acabou de aprender POO e foi desafiado a criar o seu primeiro projeto. Neste código, você deve criar uma classe chamada Pessoa com dois atributos: nome e idade. Em seguida, deve implementar dois métodos para obter esses atributos: getNome() e getIdade(). Por fim, deve criar um objeto do tipo Pessoa e exibir na tela o nome e a idade usando os métodos criados.\n",
    "\n",
    "### Requisitos:\n",
    "\n",
    "Utilizar classes e métodos para implementar o programa;\n",
    "Implementar a classe Pessoa com os atributos nome e idade, e o método get para cada atributo;\n",
    "O programa deve solicitar que o usuário insira o nome e a idade da pessoa;\n",
    "O programa deve exibir o nome e a idade da pessoa inserida pelo usuário.\n",
    "\n",
    "## Entrada\n",
    "A entrada deverá receber as informações do objeto Pessoa, conforme exemplo abaixo:\n",
    "\n",
    "nome (string)\n",
    "idade (int)\n",
    "\n",
    "## Saída\n",
    "O código deverá retornar uma mensagem (string) informando o nome e idade da pessoa, de acordo com o que foi recebido como entrada. Veja como exemplo a entrada recebida abaixo:\n",
    "\n",
    "João\n",
    "26\n",
    "\n",
    "De acordo com esses valores de entrada, a saída ficará desta maneira:\n",
    "\n",
    "Nome: João, Idade: 26\n",
    "\n",
    "### Exemplos\n",
    "A tabela abaixo apresenta exemplos com alguns dados de entrada e suas respectivas saídas esperadas. Certifique-se de testar seu programa com esses exemplos e com outros casos possíveis.\n",
    "\n",
    "Entrada\tSaída\n",
    "Ana\n",
    "17\n",
    "Nome: Ana, Idade: 17\n",
    "\n",
    "Paulo\n",
    "44\n",
    "Nome: Paulo, Idade: 44\n",
    "\n",
    "Maria\n",
    "32\n",
    "Nome: Maria, Idade: 32"
   ]
  },
  {
   "cell_type": "code",
   "execution_count": null,
   "metadata": {
    "dotnet_interactive": {
     "language": "csharp"
    },
    "polyglot_notebook": {
     "kernelName": "csharp"
    }
   },
   "outputs": [],
   "source": [
    "using System;\n",
    "\n",
    "class Pessoa\n",
    "{\n",
    " \n",
    "\n",
    "\n",
    "    public Pessoa(string n, int i)\n",
    "    {\n",
    "        nome = n;\n",
    "        idade = i;\n",
    "    }\n",
    "\n",
    "    public string GetNome()\n",
    "    {\n",
    "        return nome;\n",
    "    }\n",
    "\n",
    "    public int GetIdade()\n",
    "    {\n",
    "        return idade;\n",
    "    }\n",
    "}\n",
    "\n",
    "class Program\n",
    "{\n",
    "    static void Main()\n",
    "    {\n",
    "       \n",
    "\n",
    "    }\n",
    "}"
   ]
  }
 ],
 "metadata": {
  "kernelspec": {
   "display_name": ".NET (C#)",
   "language": "C#",
   "name": ".net-csharp"
  },
  "language_info": {
   "name": "polyglot-notebook"
  },
  "polyglot_notebook": {
   "kernelInfo": {
    "defaultKernelName": "csharp",
    "items": [
     {
      "aliases": [],
      "languageName": "csharp",
      "name": "csharp"
     }
    ]
   }
  }
 },
 "nbformat": 4,
 "nbformat_minor": 2
}
